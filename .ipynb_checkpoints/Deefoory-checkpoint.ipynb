{
 "cells": [
  {
   "cell_type": "code",
   "execution_count": 31,
   "metadata": {},
   "outputs": [],
   "source": [
    "import numpy as np\n",
    "from matplotlib import pyplot as plt"
   ]
  },
  {
   "cell_type": "markdown",
   "metadata": {},
   "source": [
    "Initial equation"
   ]
  },
  {
   "cell_type": "code",
   "execution_count": 32,
   "metadata": {},
   "outputs": [],
   "source": [
    "yprime = lambda x, y: np.power(y, 4) * np.cos(x) + y * np.tan(x)"
   ]
  },
  {
   "cell_type": "markdown",
   "metadata": {},
   "source": [
    "Exact solution"
   ]
  },
  {
   "cell_type": "code",
   "execution_count": 33,
   "metadata": {},
   "outputs": [],
   "source": [
    "exact = lambda x: 1 / (np.cbrt(np.power(np.cos(x), 2) * (np.cos(x) - 2 * np.sin(x))))"
   ]
  },
  {
   "cell_type": "code",
   "execution_count": 89,
   "metadata": {},
   "outputs": [
    {
     "data": {
      "text/plain": [
       "False"
      ]
     },
     "execution_count": 89,
     "metadata": {},
     "output_type": "execute_result"
    }
   ],
   "source": [
    "asymptotes = [np.isclose(np.cos(x), 0) for x in np.linspace(0, 9.5, 9501)]\n",
    "any(asymptotes)"
   ]
  },
  {
   "cell_type": "markdown",
   "metadata": {},
   "source": [
    "Euler method"
   ]
  },
  {
   "cell_type": "code",
   "execution_count": 97,
   "metadata": {},
   "outputs": [],
   "source": [
    "trim = 100000000\n",
    "def euler(x0: float, y0: float, x: float, h: float):\n",
    "    a = [(x0, y0)]\n",
    "    i = x0\n",
    "    while i < x:\n",
    "        i += h\n",
    "        if np.isclose(np.cos(x), 0):\n",
    "            continue\n",
    "        \n",
    "        xprev, yprev = a[-1]\n",
    "        ynew = yprev + h * yprime(xprev, yprev)\n",
    "        \n",
    "        if (ynew > trim): ynew = trim # Should not be here\n",
    "        if (ynew < -trim): ynew = -trim\n",
    "        \n",
    "        a.append((i, ynew))\n",
    "        \n",
    "    return a"
   ]
  },
  {
   "cell_type": "markdown",
   "metadata": {},
   "source": [
    "Improved Euler method"
   ]
  },
  {
   "cell_type": "code",
   "execution_count": 98,
   "metadata": {},
   "outputs": [],
   "source": [
    "def euler_improved(x0: float, y0: float, x: float, h: float):\n",
    "    a = [(x0, y0)]\n",
    "    i = x0\n",
    "    while i < x:\n",
    "        i += h\n",
    "        if np.isclose(np.cos(x), 0):\n",
    "            continue\n",
    "        \n",
    "        xprev, yprev = a[-1]\n",
    "        ydelta = h * yprime(xprev + h/2, yprev + (h/2) * yprime(xprev, yprev))\n",
    "        ynew = yprev + ydelta\n",
    "        \n",
    "        if (ynew > trim): ynew = trim # Should not be here\n",
    "        if (ynew < -trim): ynew = -trim\n",
    "        \n",
    "        a.append((i, ynew))\n",
    "    \n",
    "    return a"
   ]
  },
  {
   "cell_type": "markdown",
   "metadata": {},
   "source": [
    "Runge-Kutta method"
   ]
  },
  {
   "cell_type": "code",
   "execution_count": 100,
   "metadata": {},
   "outputs": [],
   "source": [
    "def runge_kutta(x0: float, y0: float, x: float, h: float):\n",
    "    a = [(x0, y0)]\n",
    "    i = x0\n",
    "    while i < x:\n",
    "        i += h\n",
    "        if np.isclose(np.cos(x), 0):\n",
    "            continue\n",
    "        \n",
    "        xprev, yprev = a[-1]\n",
    "        k1 = yprime(xprev, yprev)\n",
    "        k2 = yprime(xprev + h / 2, yprev + (h * k1) / 2)\n",
    "        k3 = yprime(xprev + h / 2, yprev + (h * k2) / 2)\n",
    "        k4 = yprime(xprev + h, yprev + h * k3)\n",
    "        ydelta = (h / 6) * (k1 + 2 * k2 + 2 * k3 + k4)\n",
    "        ynew = yprev + ydelta\n",
    "        if (ynew > trim): ynew = trim # Should not be here\n",
    "        if (ynew < -trim): ynew = -trim\n",
    "        \n",
    "        a.append((i, ynew))\n",
    "    \n",
    "    return a"
   ]
  },
  {
   "cell_type": "markdown",
   "metadata": {},
   "source": [
    "Making plots"
   ]
  },
  {
   "cell_type": "code",
   "execution_count": 102,
   "metadata": {
    "scrolled": true
   },
   "outputs": [
    {
     "data": {
      "text/plain": [
       "[<matplotlib.lines.Line2D at 0x265ab7b9b70>]"
      ]
     },
     "execution_count": 102,
     "metadata": {},
     "output_type": "execute_result"
    },
    {
     "data": {
      "image/png": "[encoded data removed]",
      "text/plain": [
       "<Figure size 1080x360 with 1 Axes>"
      ]
     },
     "metadata": {},
     "output_type": "display_data"
    }
   ],
   "source": [
    "ea = euler_improved(0, 1, 9.5, 0.001)\n",
    "eay = [i[1] for i in ea]\n",
    "%gui notebook\n",
    "plt.figure(figsize=(15, 5))\n",
    "plt.plot(eay)"
   ]
  },
  {
   "cell_type": "code",
   "execution_count": 86,
   "metadata": {},
   "outputs": [
    {
     "data": {
      "text/plain": [
       "[<matplotlib.lines.Line2D at 0x265ab581630>]"
      ]
     },
     "execution_count": 86,
     "metadata": {},
     "output_type": "execute_result"
    },
    {
     "data": {
      "image/png": "[encoded data removed]",
      "text/plain": [
       "<Figure size 1080x360 with 1 Axes>"
      ]
     },
     "metadata": {},
     "output_type": "display_data"
    }
   ],
   "source": [
    "plt.figure(figsize=(15,5))\n",
    "plt.plot([exact(x) for x in np.linspace(0, 9.5, 9501)])"
   ]
  }
 ],
 "metadata": {
  "kernelspec": {
   "display_name": "Python 3",
   "language": "python",
   "name": "python3"
  },
  "language_info": {
   "codemirror_mode": {
    "name": "ipython",
    "version": 3
   },
   "file_extension": ".py",
   "mimetype": "text/x-python",
   "name": "python",
   "nbconvert_exporter": "python",
   "pygments_lexer": "ipython3",
   "version": "3.5.5"
  }
 },
 "nbformat": 4,
 "nbformat_minor": 2
}
